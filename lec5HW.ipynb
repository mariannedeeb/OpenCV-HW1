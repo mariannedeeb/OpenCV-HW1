{
 "cells": [
  {
   "cell_type": "code",
   "execution_count": 1,
   "metadata": {},
   "outputs": [],
   "source": [
    "import cv2 as cv\n",
    "import numpy as np\n",
    "import matplotlib.pyplot as plt"
   ]
  },
  {
   "cell_type": "markdown",
   "metadata": {},
   "source": [
    "1) CANNY then HOUGH TRANSFORM\n"
   ]
  },
  {
   "cell_type": "code",
   "execution_count": 2,
   "metadata": {},
   "outputs": [],
   "source": [
    "\n",
    "image = cv.imread('pentagon.jpg', cv.IMREAD_GRAYSCALE)\n",
    "\n",
    "edges = cv.Canny(image, 50, 150, apertureSize=3)\n",
    "\n",
    "lines = cv.HoughLines(edges, 1, np.pi / 180, threshold=100)\n",
    "\n",
    "for line in lines:\n",
    "    rho, theta = line[0]\n",
    "    a = np.cos(theta)\n",
    "    b = np.sin(theta)\n",
    "    x0 = a * rho\n",
    "    y0 = b * rho\n",
    "    x1 = int(x0 + 1000 * (-b))\n",
    "    y1 = int(y0 + 1000 * (a))\n",
    "    x2 = int(x0 - 1000 * (-b))\n",
    "    y2 = int(y0 - 1000 * (a))\n",
    "    cv.line(image, (x1, y1), (x2, y2), (0, 0, 255), 2)\n",
    "\n",
    "cv.imshow('Canny Edge Detection', edges)\n",
    "cv.imshow('Hough Transform for Lines', image)\n",
    "cv.waitKey(0)\n",
    "cv.destroyAllWindows()"
   ]
  },
  {
   "cell_type": "markdown",
   "metadata": {},
   "source": [
    "2) Probablistic Hough"
   ]
  },
  {
   "cell_type": "code",
   "execution_count": 3,
   "metadata": {},
   "outputs": [],
   "source": [
    "\n",
    "image = cv.imread('pentagon.jpg', cv.IMREAD_GRAYSCALE)\n",
    "\n",
    "edges = cv.Canny(image, 50, 150, apertureSize=3)\n",
    "\n",
    "lines = cv.HoughLinesP(edges, 1, np.pi / 180, threshold=50, minLineLength=50, maxLineGap=10)\n",
    "\n",
    "for line in lines:\n",
    "    x1, y1, x2, y2 = line[0]\n",
    "    cv.line(image, (x1, y1), (x2, y2), (0, 0, 255), 2)\n",
    "\n",
    "cv.imshow('Canny Edge Detection', edges)\n",
    "cv.imshow('Probabilistic Hough Transform for Lines', image)\n",
    "cv.waitKey(0)\n",
    "cv.destroyAllWindows()"
   ]
  },
  {
   "cell_type": "markdown",
   "metadata": {},
   "source": [
    "3) Remove Text\n"
   ]
  },
  {
   "cell_type": "code",
   "execution_count": 5,
   "metadata": {},
   "outputs": [],
   "source": [
    "\n",
    "image = cv.imread('pentagon.jpg')\n",
    "\n",
    "text = \"Text to Remove\"\n",
    "org = (60, image.shape[0] // 2)\n",
    "font = cv.FONT_HERSHEY_SIMPLEX\n",
    "fontScale = 3\n",
    "color = (0, 0, 0)\n",
    "thickness = 3\n",
    "\n",
    "image_with_text = cv.putText(image.copy(), text, org, font, fontScale, color, thickness, cv.LINE_AA)\n",
    "\n",
    "cv.imwrite('bold_with_text.jpg', image_with_text)\n",
    "\n",
    "cv.imshow('Image with Text', image_with_text)\n",
    "cv.waitKey(0)\n",
    "cv.destroyAllWindows()\n",
    "\n",
    "image_with_text = cv.imread('bold_with_text.jpg')\n",
    "\n",
    "mask = np.zeros_like(image_with_text)\n",
    "\n",
    "fontScale = 3\n",
    "color = (255, 255, 255)\n",
    "thickness = 12\n",
    "mask_with_text = cv.putText(mask, text, org, font, fontScale, color, thickness, cv.LINE_AA)\n",
    "\n",
    "cv.imwrite('mask_bold.jpg', mask_with_text)\n",
    "\n",
    "mask = cv.imread('mask_bold.jpg', cv.IMREAD_GRAYSCALE)\n",
    "\n",
    "dst = cv.inpaint(image_with_text, mask, 3, cv.INPAINT_TELEA)\n",
    "\n",
    "cv.imshow(\"Original Image\", image_with_text)\n",
    "cv.imshow('Binary Mask', mask)\n",
    "cv.imshow('Text Removed', dst)\n",
    "\n",
    "cv.waitKey(0)\n",
    "cv.destroyAllWindows()"
   ]
  },
  {
   "cell_type": "markdown",
   "metadata": {},
   "source": [
    "HOMEWORK DONE BY HRAYR DERBEDROSSIAN AND MARIANNE DEEB,\n",
    "THANKS!\n"
   ]
  }
 ],
 "metadata": {
  "kernelspec": {
   "display_name": "Python 3",
   "language": "python",
   "name": "python3"
  },
  "language_info": {
   "codemirror_mode": {
    "name": "ipython",
    "version": 3
   },
   "file_extension": ".py",
   "mimetype": "text/x-python",
   "name": "python",
   "nbconvert_exporter": "python",
   "pygments_lexer": "ipython3",
   "version": "3.8.0"
  }
 },
 "nbformat": 4,
 "nbformat_minor": 2
}
