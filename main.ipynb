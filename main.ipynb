{
 "cells": [
  {
   "cell_type": "markdown",
   "metadata": {},
   "source": [
    "CV HOMEWORK 2 BY HRAYR DERBEDROSSIAN & MARIANNE DEEB"
   ]
  },
  {
   "cell_type": "markdown",
   "metadata": {},
   "source": [
    "1) IMPORTS"
   ]
  },
  {
   "cell_type": "code",
   "execution_count": 1,
   "metadata": {},
   "outputs": [],
   "source": [
    "import cv2 as cv\n",
    "import numpy as np"
   ]
  },
  {
   "cell_type": "markdown",
   "metadata": {},
   "source": [
    "2) APPLYING BLUR"
   ]
  },
  {
   "cell_type": "code",
   "execution_count": 12,
   "metadata": {},
   "outputs": [],
   "source": [
    "image = cv.imread('lion.jpg')\n",
    "\n",
    "#GAUSSIAN\n",
    "gaussian = cv.GaussianBlur(image, (5, 5), 0)\n",
    "\n",
    "#MEDIAN\n",
    "median = cv.medianBlur(image, 5)\n",
    "\n",
    "#CUSTOM MADE\n",
    "customkernel = np.array([[1, 2, 1],\n",
    "                  [2, 4, 2],\n",
    "                  [1, 2, 1]]) / 16\n",
    "\n",
    "custom = cv.filter2D(image, -1, customkernel)\n",
    "\n",
    "\n",
    "cv.imshow('No Blur', image)\n",
    "cv.imshow('Gaussian Blur', gaussian)\n",
    "cv.imshow('Median Blur', median)\n",
    "cv.imshow('Custom Blur', custom)\n",
    "\n",
    "cv.waitKey(0)\n",
    "cv.destroyAllWindows()"
   ]
  },
  {
   "cell_type": "markdown",
   "metadata": {},
   "source": [
    "3. APPLYING CANNY ON THE GAUSSIAN VERSION"
   ]
  },
  {
   "cell_type": "code",
   "execution_count": 14,
   "metadata": {},
   "outputs": [],
   "source": [
    "canny = cv.Canny(gaussian, 100, 200)  \n",
    "\n",
    "cv.imshow('Canny Edge Detection', canny)\n",
    "cv.waitKey(0)\n",
    "cv.destroyAllWindows()"
   ]
  },
  {
   "cell_type": "markdown",
   "metadata": {},
   "source": [
    "4. APPLYING EROSION & DILATION"
   ]
  },
  {
   "cell_type": "code",
   "execution_count": 15,
   "metadata": {},
   "outputs": [],
   "source": [
    "kernel = cv.getStructuringElement(cv.MORPH_RECT, (3, 3))\n",
    "\n",
    "#EROSION\n",
    "erosion = cv.erode(canny, kernel, iterations=1)\n",
    "\n",
    "#DILATION\n",
    "dilation = cv.dilate(canny, kernel, iterations=1)\n",
    "\n",
    "cv.imshow('Erosion', erosion)\n",
    "cv.imshow('Dilation', dilation)\n",
    "cv.waitKey(0)\n",
    "cv.destroyAllWindows()\n"
   ]
  },
  {
   "cell_type": "markdown",
   "metadata": {},
   "source": [
    "5. APPLYING OPENING AND CLOSING AND MORPH GRADIENT"
   ]
  },
  {
   "cell_type": "code",
   "execution_count": 7,
   "metadata": {},
   "outputs": [],
   "source": [
    "kernel = np.ones((5, 5), np.uint8)\n",
    "\n",
    "#OPENING\n",
    "opening = cv.morphologyEx(canny, cv.MORPH_OPEN, kernel)\n",
    "\n",
    "#CLOSING\n",
    "closing = cv.morphologyEx(canny, cv.MORPH_CLOSE, kernel)\n",
    "\n",
    "#GRADIENT\n",
    "gradient = cv.morphologyEx(canny, cv.MORPH_GRADIENT, kernel)\n",
    "\n",
    "cv.imshow('Opening', opening)\n",
    "cv.imshow('Closing', closing)\n",
    "cv.imshow('Morphological Gradient', gradient)\n",
    "cv.waitKey(0)\n",
    "cv.destroyAllWindows()"
   ]
  },
  {
   "cell_type": "markdown",
   "metadata": {},
   "source": [
    "6. OPENING MANUALLY"
   ]
  },
  {
   "cell_type": "code",
   "execution_count": 10,
   "metadata": {},
   "outputs": [],
   "source": [
    "image = cv.imread('lion.jpg', cv.IMREAD_GRAYSCALE)\n",
    "\n",
    "#Binarize \n",
    "_, binarized_image = cv.threshold(image, 128, 255, cv.THRESH_BINARY)\n",
    "\n",
    "kernel = np.ones((3, 3), np.uint8)\n",
    "\n",
    "erosion_result = np.zeros_like(binarized_image)\n",
    "\n",
    "for i in range(1, binarized_image.shape[0] - 1):\n",
    "    for j in range(1, binarized_image.shape[1] - 1):\n",
    "        if np.min(binarized_image[i - 1:i + 2, j - 1:j + 2] * kernel) == 255:\n",
    "            erosion_result[i, j] = 255\n",
    "\n",
    "dilation_result = np.zeros_like(erosion_result)\n",
    "\n",
    "for i in range(1, erosion_result.shape[0] - 1):\n",
    "    for j in range(1, erosion_result.shape[1] - 1):\n",
    "        if np.max(erosion_result[i - 1:i + 2, j - 1:j + 2] * kernel) == 255:\n",
    "            dilation_result[i, j] = 255\n",
    "\n",
    "cv.imshow('OPENING MANUALLY', dilation_result)\n",
    "\n",
    "cv.waitKey(0)\n",
    "cv.destroyAllWindows()\n"
   ]
  }
 ],
 "metadata": {
  "kernelspec": {
   "display_name": "env",
   "language": "python",
   "name": "python3"
  },
  "language_info": {
   "codemirror_mode": {
    "name": "ipython",
    "version": 3
   },
   "file_extension": ".py",
   "mimetype": "text/x-python",
   "name": "python",
   "nbconvert_exporter": "python",
   "pygments_lexer": "ipython3",
   "version": "3.8.0"
  }
 },
 "nbformat": 4,
 "nbformat_minor": 2
}
