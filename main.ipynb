{
 "cells": [
  {
   "cell_type": "markdown",
   "metadata": {},
   "source": []
  },
  {
   "cell_type": "markdown",
   "metadata": {},
   "source": [
    "1) IMPORTS"
   ]
  },
  {
   "cell_type": "code",
   "execution_count": 5,
   "metadata": {},
   "outputs": [],
   "source": [
    "import cv2 as cv\n",
    "import numpy as np"
   ]
  },
  {
   "cell_type": "markdown",
   "metadata": {},
   "source": [
    "2) APPLYING BLUR"
   ]
  },
  {
   "cell_type": "code",
   "execution_count": 9,
   "metadata": {},
   "outputs": [],
   "source": [
    "image = cv.imread('lion.jpg')\n",
    "\n",
    "#GAUSSIAN\n",
    "gaussian = cv.GaussianBlur(image, (5, 5), 0)\n",
    "\n",
    "#MEDIAN\n",
    "median = cv.medianBlur(image, 5)\n",
    "\n",
    "#CUSTOM MADE\n",
    "kernel = np.array([[1, 2, 1],\n",
    "                  [2, 4, 2],\n",
    "                  [1, 2, 1]]) / 16\n",
    "\n",
    "custom = cv.filter2D(image, -1, kernel)\n",
    "\n",
    "\n",
    "cv.imshow('No Blur', image)\n",
    "cv.imshow('Gaussian Blur', gaussian)\n",
    "cv.imshow('Median Blur', median)\n",
    "cv.imshow('Custom Blur', custom)\n",
    "\n",
    "cv.waitKey(0)\n",
    "cv.destroyAllWindows()"
   ]
  },
  {
   "cell_type": "markdown",
   "metadata": {},
   "source": [
    "APPLYING CANNY ON THE GAUSSIAN VERSION"
   ]
  },
  {
   "cell_type": "code",
   "execution_count": 10,
   "metadata": {},
   "outputs": [],
   "source": [
    "canny = cv.Canny(gaussian, 100, 200)  \n",
    "\n",
    "cv.imshow('Canny Edge Detection', canny)\n",
    "cv.waitKey(0)\n",
    "cv.destroyAllWindows()"
   ]
  }
 ],
 "metadata": {
  "kernelspec": {
   "display_name": "env",
   "language": "python",
   "name": "python3"
  },
  "language_info": {
   "codemirror_mode": {
    "name": "ipython",
    "version": 3
   },
   "file_extension": ".py",
   "mimetype": "text/x-python",
   "name": "python",
   "nbconvert_exporter": "python",
   "pygments_lexer": "ipython3",
   "version": "3.8.0"
  }
 },
 "nbformat": 4,
 "nbformat_minor": 2
}
